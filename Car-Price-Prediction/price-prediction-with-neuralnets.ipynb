{
 "cells": [
  {
   "cell_type": "code",
   "execution_count": 1,
   "id": "7d293544",
   "metadata": {
    "_cell_guid": "b1076dfc-b9ad-4769-8c92-a6c4dae69d19",
    "_uuid": "8f2839f25d086af736a60e9eeb907d3b93b6e0e5",
    "execution": {
     "iopub.execute_input": "2024-03-29T04:45:10.037317Z",
     "iopub.status.busy": "2024-03-29T04:45:10.036808Z",
     "iopub.status.idle": "2024-03-29T04:45:28.518900Z",
     "shell.execute_reply": "2024-03-29T04:45:28.517464Z"
    },
    "papermill": {
     "duration": 18.491994,
     "end_time": "2024-03-29T04:45:28.521830",
     "exception": false,
     "start_time": "2024-03-29T04:45:10.029836",
     "status": "completed"
    },
    "tags": []
   },
   "outputs": [
    {
     "name": "stderr",
     "output_type": "stream",
     "text": [
      "2024-03-29 04:45:15.756602: E external/local_xla/xla/stream_executor/cuda/cuda_dnn.cc:9261] Unable to register cuDNN factory: Attempting to register factory for plugin cuDNN when one has already been registered\n",
      "2024-03-29 04:45:15.756790: E external/local_xla/xla/stream_executor/cuda/cuda_fft.cc:607] Unable to register cuFFT factory: Attempting to register factory for plugin cuFFT when one has already been registered\n",
      "2024-03-29 04:45:15.971761: E external/local_xla/xla/stream_executor/cuda/cuda_blas.cc:1515] Unable to register cuBLAS factory: Attempting to register factory for plugin cuBLAS when one has already been registered\n"
     ]
    }
   ],
   "source": [
    "from sklearn.model_selection import train_test_split\n",
    "from sklearn.preprocessing import MinMaxScaler\n",
    "from sklearn.preprocessing import StandardScaler\n",
    "import matplotlib.pyplot as plt\n",
    "import pandas as pd\n",
    "import keras\n",
    "from keras import regularizers"
   ]
  },
  {
   "cell_type": "code",
   "execution_count": 2,
   "id": "4141e38e",
   "metadata": {
    "execution": {
     "iopub.execute_input": "2024-03-29T04:45:28.533365Z",
     "iopub.status.busy": "2024-03-29T04:45:28.532621Z",
     "iopub.status.idle": "2024-03-29T04:45:28.596072Z",
     "shell.execute_reply": "2024-03-29T04:45:28.594697Z"
    },
    "papermill": {
     "duration": 0.072056,
     "end_time": "2024-03-29T04:45:28.598751",
     "exception": false,
     "start_time": "2024-03-29T04:45:28.526695",
     "status": "completed"
    },
    "tags": []
   },
   "outputs": [
    {
     "data": {
      "text/plain": [
       "year                    0\n",
       "selling_price           0\n",
       "km_driven               0\n",
       "fuel                    0\n",
       "seller_type             0\n",
       "transmission            0\n",
       "owner                   0\n",
       "mileage(km/ltr/kg)    221\n",
       "engine                221\n",
       "max_power             216\n",
       "seats                 221\n",
       "dtype: int64"
      ]
     },
     "execution_count": 2,
     "metadata": {},
     "output_type": "execute_result"
    }
   ],
   "source": [
    "data = pd.read_csv('/kaggle/input/cardekho/cardekho.csv',index_col=0)\n",
    "data.isnull().sum()"
   ]
  },
  {
   "cell_type": "code",
   "execution_count": 3,
   "id": "abed338a",
   "metadata": {
    "execution": {
     "iopub.execute_input": "2024-03-29T04:45:28.610349Z",
     "iopub.status.busy": "2024-03-29T04:45:28.609960Z",
     "iopub.status.idle": "2024-03-29T04:45:28.652472Z",
     "shell.execute_reply": "2024-03-29T04:45:28.651150Z"
    },
    "papermill": {
     "duration": 0.0514,
     "end_time": "2024-03-29T04:45:28.655134",
     "exception": false,
     "start_time": "2024-03-29T04:45:28.603734",
     "status": "completed"
    },
    "tags": []
   },
   "outputs": [
    {
     "data": {
      "text/plain": [
       "year                            0\n",
       "selling_price                   0\n",
       "km_driven                       0\n",
       "mileage(km/ltr/kg)              0\n",
       "engine                          0\n",
       "max_power                       0\n",
       "seats                           0\n",
       "fuel_CNG                        0\n",
       "fuel_Diesel                     0\n",
       "fuel_LPG                        0\n",
       "fuel_Petrol                     0\n",
       "seller_type_Dealer              0\n",
       "seller_type_Individual          0\n",
       "seller_type_Trustmark Dealer    0\n",
       "transmission_Automatic          0\n",
       "transmission_Manual             0\n",
       "owner_First Owner               0\n",
       "owner_Fourth & Above Owner      0\n",
       "owner_Second Owner              0\n",
       "owner_Test Drive Car            0\n",
       "owner_Third Owner               0\n",
       "dtype: int64"
      ]
     },
     "execution_count": 3,
     "metadata": {},
     "output_type": "execute_result"
    }
   ],
   "source": [
    "data = data.dropna()\n",
    "one_hot_encoded_data = pd.get_dummies(data, columns = ['fuel', 'seller_type','transmission','owner'], dtype='int')\n",
    "one_hot_encoded_data.isnull().sum()"
   ]
  },
  {
   "cell_type": "code",
   "execution_count": 4,
   "id": "493405e4",
   "metadata": {
    "execution": {
     "iopub.execute_input": "2024-03-29T04:45:28.667090Z",
     "iopub.status.busy": "2024-03-29T04:45:28.666688Z",
     "iopub.status.idle": "2024-03-29T04:45:28.684520Z",
     "shell.execute_reply": "2024-03-29T04:45:28.682889Z"
    },
    "papermill": {
     "duration": 0.027242,
     "end_time": "2024-03-29T04:45:28.687514",
     "exception": false,
     "start_time": "2024-03-29T04:45:28.660272",
     "status": "completed"
    },
    "tags": []
   },
   "outputs": [],
   "source": [
    "X = one_hot_encoded_data.drop(['selling_price'], axis=1)\n",
    "y = one_hot_encoded_data['selling_price']\n",
    "\n",
    "inputdim = len(X.columns)\n",
    "\n",
    "sc_x = StandardScaler()\n",
    "Xscaled = sc_x.fit_transform(X)"
   ]
  },
  {
   "cell_type": "code",
   "execution_count": 5,
   "id": "0a2042f9",
   "metadata": {
    "execution": {
     "iopub.execute_input": "2024-03-29T04:45:28.699876Z",
     "iopub.status.busy": "2024-03-29T04:45:28.698937Z",
     "iopub.status.idle": "2024-03-29T04:45:28.712000Z",
     "shell.execute_reply": "2024-03-29T04:45:28.710571Z"
    },
    "papermill": {
     "duration": 0.022085,
     "end_time": "2024-03-29T04:45:28.714644",
     "exception": false,
     "start_time": "2024-03-29T04:45:28.692559",
     "status": "completed"
    },
    "tags": []
   },
   "outputs": [],
   "source": [
    "def define_model(input_size):\n",
    "    model = keras.models.Sequential()\n",
    "    model.add(keras.layers.Dense(2048,input_dim=input_size, activation='relu'))\n",
    "    model.add(keras.layers.Dropout(0.2))\n",
    "    model.add(keras.layers.Dense(1028, activation='relu',\n",
    "                                kernel_regularizer=regularizers.L1L2(l1=1e-5, l2=1e-4),\n",
    "                                bias_regularizer=regularizers.L2(1e-4),\n",
    "                                activity_regularizer=regularizers.L2(1e-5)))\n",
    "    model.add(keras.layers.Dense(1028, activation='relu',\n",
    "                                kernel_regularizer=regularizers.L1L2(l1=1e-5, l2=1e-4),\n",
    "                                bias_regularizer=regularizers.L2(1e-4),\n",
    "                                activity_regularizer=regularizers.L2(1e-5)))\n",
    "    model.add(keras.layers.Dense(1028, activation='relu',\n",
    "                                kernel_regularizer=regularizers.L1L2(l1=1e-5, l2=1e-4),\n",
    "                                bias_regularizer=regularizers.L2(1e-4),\n",
    "                                activity_regularizer=regularizers.L2(1e-5)))\n",
    "    model.add(keras.layers.Dense(512, activation='relu'))\n",
    "    model.add(keras.layers.Dense(512, activation='relu'))\n",
    "    model.add(keras.layers.Dropout(0.1))\n",
    "    model.add(keras.layers.Dense(256, activation='relu'))\n",
    "    model.add(keras.layers.Dense(1, activation='relu'))\n",
    "    return model"
   ]
  },
  {
   "cell_type": "code",
   "execution_count": 6,
   "id": "f445cd0a",
   "metadata": {
    "execution": {
     "iopub.execute_input": "2024-03-29T04:45:28.726950Z",
     "iopub.status.busy": "2024-03-29T04:45:28.726114Z",
     "iopub.status.idle": "2024-03-29T04:45:28.738858Z",
     "shell.execute_reply": "2024-03-29T04:45:28.737215Z"
    },
    "papermill": {
     "duration": 0.021855,
     "end_time": "2024-03-29T04:45:28.741699",
     "exception": false,
     "start_time": "2024-03-29T04:45:28.719844",
     "status": "completed"
    },
    "tags": []
   },
   "outputs": [],
   "source": [
    "X_train, X_test, y_train, y_test = train_test_split(Xscaled, y, test_size=0.33, random_state=42)"
   ]
  },
  {
   "cell_type": "code",
   "execution_count": 7,
   "id": "fc49d8f2",
   "metadata": {
    "execution": {
     "iopub.execute_input": "2024-03-29T04:45:28.754227Z",
     "iopub.status.busy": "2024-03-29T04:45:28.753794Z",
     "iopub.status.idle": "2024-03-29T04:46:14.851673Z",
     "shell.execute_reply": "2024-03-29T04:46:14.850549Z"
    },
    "papermill": {
     "duration": 46.107297,
     "end_time": "2024-03-29T04:46:14.854451",
     "exception": false,
     "start_time": "2024-03-29T04:45:28.747154",
     "status": "completed"
    },
    "tags": []
   },
   "outputs": [
    {
     "name": "stderr",
     "output_type": "stream",
     "text": [
      "/opt/conda/lib/python3.10/site-packages/keras/src/layers/core/dense.py:85: UserWarning: Do not pass an `input_shape`/`input_dim` argument to a layer. When using Sequential models, prefer using an `Input(shape)` object as the first layer in the model instead.\n",
      "  super().__init__(activity_regularizer=activity_regularizer, **kwargs)\n"
     ]
    },
    {
     "name": "stdout",
     "output_type": "stream",
     "text": [
      "Epoch 1/10\n",
      "34/34 - 7s - 192ms/step - loss: 490460.2500 - val_loss: 250332.7500\n",
      "Epoch 2/10\n",
      "34/34 - 5s - 138ms/step - loss: 205834.1562 - val_loss: 174275.0156\n",
      "Epoch 3/10\n",
      "34/34 - 5s - 149ms/step - loss: 174965.9219 - val_loss: 167328.2969\n",
      "Epoch 4/10\n",
      "34/34 - 3s - 90ms/step - loss: 158420.5938 - val_loss: 147721.8438\n",
      "Epoch 5/10\n",
      "34/34 - 3s - 86ms/step - loss: 145967.4219 - val_loss: 132383.5625\n",
      "Epoch 6/10\n",
      "34/34 - 3s - 87ms/step - loss: 141402.3906 - val_loss: 149651.7812\n",
      "Epoch 7/10\n",
      "34/34 - 5s - 150ms/step - loss: 134202.7969 - val_loss: 132733.2344\n",
      "Epoch 8/10\n",
      "34/34 - 5s - 151ms/step - loss: 133867.7500 - val_loss: 130726.5000\n",
      "Epoch 9/10\n",
      "34/34 - 3s - 90ms/step - loss: 122904.8750 - val_loss: 132040.5312\n",
      "Epoch 10/10\n",
      "34/34 - 5s - 149ms/step - loss: 117400.6484 - val_loss: 124973.3047\n"
     ]
    }
   ],
   "source": [
    "model = define_model(inputdim)\n",
    "\n",
    "model.compile(\n",
    "    optimizer=keras.optimizers.Adam(),\n",
    "    loss='mae'\n",
    ")\n",
    "history = model.fit(\n",
    "    X_train,\n",
    "    y_train,\n",
    "    epochs=10,\n",
    "    batch_size=128, \n",
    "    validation_split=0.2, \n",
    "    verbose=2\n",
    ")"
   ]
  },
  {
   "cell_type": "code",
   "execution_count": 8,
   "id": "8549cf5f",
   "metadata": {
    "execution": {
     "iopub.execute_input": "2024-03-29T04:46:14.870196Z",
     "iopub.status.busy": "2024-03-29T04:46:14.869804Z",
     "iopub.status.idle": "2024-03-29T04:46:15.918369Z",
     "shell.execute_reply": "2024-03-29T04:46:15.916945Z"
    },
    "papermill": {
     "duration": 1.059741,
     "end_time": "2024-03-29T04:46:15.921310",
     "exception": false,
     "start_time": "2024-03-29T04:46:14.861569",
     "status": "completed"
    },
    "tags": []
   },
   "outputs": [
    {
     "name": "stdout",
     "output_type": "stream",
     "text": [
      "\u001b[1m82/82\u001b[0m \u001b[32m━━━━━━━━━━━━━━━━━━━━\u001b[0m\u001b[37m\u001b[0m \u001b[1m1s\u001b[0m 10ms/step\n"
     ]
    }
   ],
   "source": [
    "y_pred = model.predict(X_test)"
   ]
  },
  {
   "cell_type": "code",
   "execution_count": 9,
   "id": "e2317e2a",
   "metadata": {
    "execution": {
     "iopub.execute_input": "2024-03-29T04:46:15.940165Z",
     "iopub.status.busy": "2024-03-29T04:46:15.939700Z",
     "iopub.status.idle": "2024-03-29T04:46:15.961540Z",
     "shell.execute_reply": "2024-03-29T04:46:15.960201Z"
    },
    "papermill": {
     "duration": 0.034497,
     "end_time": "2024-03-29T04:46:15.964346",
     "exception": false,
     "start_time": "2024-03-29T04:46:15.929849",
     "status": "completed"
    },
    "tags": []
   },
   "outputs": [],
   "source": [
    "dftest = pd.DataFrame(y_test)\n",
    "dftest.insert(1,'prediction',y_pred,True)\n",
    "dftest.to_csv('out.csv', index=True)"
   ]
  },
  {
   "cell_type": "code",
   "execution_count": 10,
   "id": "88672799",
   "metadata": {
    "execution": {
     "iopub.execute_input": "2024-03-29T04:46:15.983769Z",
     "iopub.status.busy": "2024-03-29T04:46:15.983326Z",
     "iopub.status.idle": "2024-03-29T04:46:16.327846Z",
     "shell.execute_reply": "2024-03-29T04:46:16.326569Z"
    },
    "papermill": {
     "duration": 0.357156,
     "end_time": "2024-03-29T04:46:16.330455",
     "exception": false,
     "start_time": "2024-03-29T04:46:15.973299",
     "status": "completed"
    },
    "tags": []
   },
   "outputs": [
    {
     "data": {
      "text/plain": [
       "<module 'matplotlib.pyplot' from '/opt/conda/lib/python3.10/site-packages/matplotlib/pyplot.py'>"
      ]
     },
     "execution_count": 10,
     "metadata": {},
     "output_type": "execute_result"
    },
    {
     "data": {
      "image/png": "[encoded data removed]",
      "text/plain": [
       "<Figure size 640x480 with 1 Axes>"
      ]
     },
     "metadata": {},
     "output_type": "display_data"
    }
   ],
   "source": [
    "plt.plot(X_test[:,0], y_test, 'o')\n",
    "plt.plot(X_test[:,0], y_pred, '.')\n",
    "plt"
   ]
  }
 ],
 "metadata": {
  "kaggle": {
   "accelerator": "none",
   "dataSources": [
    {
     "datasetId": 4685067,
     "sourceId": 7963665,
     "sourceType": "datasetVersion"
    },
    {
     "datasetId": 4690108,
     "sourceId": 7970879,
     "sourceType": "datasetVersion"
    }
   ],
   "dockerImageVersionId": 30673,
   "isGpuEnabled": false,
   "isInternetEnabled": true,
   "language": "python",
   "sourceType": "notebook"
  },
  "kernelspec": {
   "display_name": "Python 3",
   "language": "python",
   "name": "python3"
  },
  "language_info": {
   "codemirror_mode": {
    "name": "ipython",
    "version": 3
   },
   "file_extension": ".py",
   "mimetype": "text/x-python",
   "name": "python",
   "nbconvert_exporter": "python",
   "pygments_lexer": "ipython3",
   "version": "3.10.13"
  },
  "papermill": {
   "default_parameters": {},
   "duration": 72.284016,
   "end_time": "2024-03-29T04:46:18.975048",
   "environment_variables": {},
   "exception": null,
   "input_path": "__notebook__.ipynb",
   "output_path": "__notebook__.ipynb",
   "parameters": {},
   "start_time": "2024-03-29T04:45:06.691032",
   "version": "2.5.0"
  }
 },
 "nbformat": 4,
 "nbformat_minor": 5
}
