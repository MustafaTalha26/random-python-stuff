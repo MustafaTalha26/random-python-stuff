{
 "cells": [
  {
   "cell_type": "markdown",
   "id": "d4c8b1b8",
   "metadata": {
    "papermill": {
     "duration": 0.00458,
     "end_time": "2024-03-26T15:07:33.384140",
     "exception": false,
     "start_time": "2024-03-26T15:07:33.379560",
     "status": "completed"
    },
    "tags": []
   },
   "source": [
    "# **Fast and simple.**\n",
    "\n",
    "## Using linear regression for quick insights on popularity."
   ]
  },
  {
   "cell_type": "code",
   "execution_count": 1,
   "id": "a5583d5a",
   "metadata": {
    "execution": {
     "iopub.execute_input": "2024-03-26T15:07:33.395590Z",
     "iopub.status.busy": "2024-03-26T15:07:33.394572Z",
     "iopub.status.idle": "2024-03-26T15:07:36.272894Z",
     "shell.execute_reply": "2024-03-26T15:07:36.271609Z"
    },
    "papermill": {
     "duration": 2.89038,
     "end_time": "2024-03-26T15:07:36.279048",
     "exception": false,
     "start_time": "2024-03-26T15:07:33.388668",
     "status": "completed"
    },
    "tags": []
   },
   "outputs": [
    {
     "name": "stdout",
     "output_type": "stream",
     "text": [
      "Score: -2.44512, \t Feature: Dance/Electronic\n",
      "Score: -1.41599, \t Feature: R&B\n",
      "Score: -0.92352, \t Feature: pop\n",
      "Score: -0.77900, \t Feature: energy\n",
      "Score: -0.76654, \t Feature: blues\n",
      "Score: -0.60385, \t Feature: mode\n",
      "Score: -0.56667, \t Feature: instrumentalness\n",
      "Score: -0.55333, \t Feature: World/Traditional\n",
      "Score: -0.53164, \t Feature: explicit\n",
      "Score: -0.52384, \t Feature: country\n",
      "Score: -0.44064, \t Feature: set()\n",
      "Score: -0.39335, \t Feature: latin\n",
      "Score: -0.31806, \t Feature: liveness\n",
      "Score: -0.30287, \t Feature: speechiness\n",
      "Score: -0.17020, \t Feature: valence\n",
      "Score: -0.12839, \t Feature: classical\n",
      "Score: -0.08076, \t Feature: jazz\n",
      "Score: 0.13441, \t Feature: easy listening\n",
      "Score: 0.17856, \t Feature: Folk/Acoustic\n",
      "Score: 0.18846, \t Feature: key\n",
      "Score: 0.26824, \t Feature: danceability\n",
      "Score: 0.40938, \t Feature: year\n",
      "Score: 0.58328, \t Feature: tempo\n",
      "Score: 0.78618, \t Feature: rock\n",
      "Score: 0.92046, \t Feature: duration_ms\n",
      "Score: 0.94870, \t Feature: metal\n",
      "Score: 0.97781, \t Feature: acousticness\n",
      "Score: 1.45017, \t Feature: loudness\n",
      "Score: 2.03295, \t Feature: hip hop\n"
     ]
    }
   ],
   "source": [
    "from sklearn.linear_model import LinearRegression\n",
    "from sklearn.preprocessing import StandardScaler\n",
    "import matplotlib.pyplot as plt\n",
    "import pandas as pd\n",
    "\n",
    "def Sort(sub_li):\n",
    "    l = len(sub_li)\n",
    "    for i in range(0, l):\n",
    "        for j in range(0, l-i-1):\n",
    "            if (sub_li[j][1] > sub_li[j + 1][1]):\n",
    "                tempo = sub_li[j]\n",
    "                sub_li[j] = sub_li[j + 1]\n",
    "                sub_li[j + 1] = tempo\n",
    "    return sub_li\n",
    "\n",
    "data = pd.read_csv('/kaggle/input/spotify-top-tracks-dataset-2000-2019/SongDetails.csv', index_col=0)\n",
    "X = data.drop(['popularity'], axis=1)\n",
    "y = data['popularity']\n",
    "\n",
    "model = LinearRegression()\n",
    "\n",
    "sc_x = StandardScaler()\n",
    "Xscaled = sc_x.fit_transform(X)\n",
    "\n",
    "model.fit(Xscaled, y)\n",
    "\n",
    "importance = model.coef_\n",
    "\n",
    "implist = []\n",
    "for i,v in enumerate(importance):\n",
    "    implist.append([X.columns[i],v])\n",
    "implist = Sort(implist)\n",
    "for feature in implist:\n",
    "    print('Score: %.5f, \\t Feature: %0s' % (feature[1],feature[0]))"
   ]
  },
  {
   "cell_type": "markdown",
   "id": "4f928bbe",
   "metadata": {
    "papermill": {
     "duration": 0.007656,
     "end_time": "2024-03-26T15:07:36.294490",
     "exception": false,
     "start_time": "2024-03-26T15:07:36.286834",
     "status": "completed"
    },
    "tags": []
   },
   "source": [
    "Hip hop, loudness, acousticness, metal, duration_ms are effecting popularity **positively**. \n",
    "\n",
    "Dance/Electronic, R&B, pop, energy, blues are effecting popularity **negatively**."
   ]
  },
  {
   "cell_type": "code",
   "execution_count": 2,
   "id": "7f1fcad0",
   "metadata": {
    "execution": {
     "iopub.execute_input": "2024-03-26T15:07:36.312857Z",
     "iopub.status.busy": "2024-03-26T15:07:36.312043Z",
     "iopub.status.idle": "2024-03-26T15:07:36.344393Z",
     "shell.execute_reply": "2024-03-26T15:07:36.343190Z"
    },
    "papermill": {
     "duration": 0.047033,
     "end_time": "2024-03-26T15:07:36.349421",
     "exception": false,
     "start_time": "2024-03-26T15:07:36.302388",
     "status": "completed"
    },
    "tags": []
   },
   "outputs": [
    {
     "name": "stdout",
     "output_type": "stream",
     "text": [
      "Only genres: \n",
      "Score: -2.40409, \t Genre: Dance/Electronic\n",
      "Score: -1.28310, \t Genre: R&B\n",
      "Score: -0.78117, \t Genre: blues\n",
      "Score: -0.73910, \t Genre: pop\n",
      "Score: -0.61269, \t Genre: World/Traditional\n",
      "Score: -0.46688, \t Genre: country\n",
      "Score: -0.44175, \t Genre: set()\n",
      "Score: -0.24759, \t Genre: latin\n",
      "Score: -0.16542, \t Genre: jazz\n",
      "Score: -0.01539, \t Genre: classical\n",
      "Score: 0.07387, \t Genre: Folk/Acoustic\n",
      "Score: 0.17440, \t Genre: easy listening\n",
      "Score: 0.64240, \t Genre: rock\n",
      "Score: 0.93079, \t Genre: metal\n",
      "Score: 1.77768, \t Genre: hip hop\n"
     ]
    }
   ],
   "source": [
    "print(\"Only genres: \")\n",
    "\n",
    "genres = ['latin', 'rock', 'Dance/Electronic', 'metal','Folk/Acoustic', \n",
    "          'World/Traditional', 'classical', 'country', 'R&B', 'blues', \n",
    "          'pop', 'jazz', 'hip hop', 'set()', 'easy listening']\n",
    "X = data[genres]\n",
    "y = data['popularity']\n",
    "\n",
    "Xscaled = sc_x.fit_transform(X)\n",
    "\n",
    "model.fit(Xscaled, y)\n",
    "\n",
    "importance = model.coef_\n",
    "\n",
    "implist = []\n",
    "for i,v in enumerate(importance):\n",
    "    implist.append([X.columns[i],v])\n",
    "implist = Sort(implist)\n",
    "for feature in implist:\n",
    "    print('Score: %.5f, \\t Genre: %0s' % (feature[1],feature[0]))"
   ]
  },
  {
   "cell_type": "markdown",
   "id": "dfbe595b",
   "metadata": {
    "papermill": {
     "duration": 0.006846,
     "end_time": "2024-03-26T15:07:36.363849",
     "exception": false,
     "start_time": "2024-03-26T15:07:36.357003",
     "status": "completed"
    },
    "tags": []
   },
   "source": [
    "Hip hop, metal, rock are **popular** genres. \n",
    "\n",
    "Dance/Electronic, R&B, blues are **not popular** genres."
   ]
  },
  {
   "cell_type": "code",
   "execution_count": 3,
   "id": "d2ff1dbc",
   "metadata": {
    "execution": {
     "iopub.execute_input": "2024-03-26T15:07:36.381989Z",
     "iopub.status.busy": "2024-03-26T15:07:36.381127Z",
     "iopub.status.idle": "2024-03-26T15:07:36.418306Z",
     "shell.execute_reply": "2024-03-26T15:07:36.416866Z"
    },
    "papermill": {
     "duration": 0.05178,
     "end_time": "2024-03-26T15:07:36.423295",
     "exception": false,
     "start_time": "2024-03-26T15:07:36.371515",
     "status": "completed"
    },
    "tags": []
   },
   "outputs": [
    {
     "name": "stdout",
     "output_type": "stream",
     "text": [
      "Without Genres: \n",
      "Score: -0.82031, \t Feature: instrumentalness\n",
      "Score: -0.63238, \t Feature: energy\n",
      "Score: -0.51966, \t Feature: mode\n",
      "Score: -0.24400, \t Feature: liveness\n",
      "Score: -0.24316, \t Feature: valence\n",
      "Score: -0.09938, \t Feature: danceability\n",
      "Score: -0.09057, \t Feature: year\n",
      "Score: 0.06402, \t Feature: speechiness\n",
      "Score: 0.24101, \t Feature: key\n",
      "Score: 0.41718, \t Feature: tempo\n",
      "Score: 0.66962, \t Feature: acousticness\n",
      "Score: 0.86567, \t Feature: explicit\n",
      "Score: 0.97169, \t Feature: duration_ms\n",
      "Score: 1.38009, \t Feature: loudness\n"
     ]
    }
   ],
   "source": [
    "print(\"Without Genres: \")\n",
    "\n",
    "genres = ['latin', 'rock', 'Dance/Electronic', 'metal','Folk/Acoustic', \n",
    "          'World/Traditional', 'classical', 'country', 'R&B', 'blues', \n",
    "          'pop', 'jazz', 'hip hop', 'set()', 'easy listening','popularity']\n",
    "X = data.drop(genres, axis=1)\n",
    "y = data['popularity']\n",
    "\n",
    "Xscaled = sc_x.fit_transform(X)\n",
    "\n",
    "model.fit(Xscaled, y)\n",
    "\n",
    "importance = model.coef_\n",
    "\n",
    "implist = []\n",
    "for i,v in enumerate(importance):\n",
    "    implist.append([X.columns[i],v])\n",
    "implist = Sort(implist)\n",
    "for feature in implist:\n",
    "    print('Score: %.5f, \\t Feature: %0s' % (feature[1],feature[0]))"
   ]
  },
  {
   "cell_type": "markdown",
   "id": "73e96607",
   "metadata": {
    "papermill": {
     "duration": 0.007109,
     "end_time": "2024-03-26T15:07:36.438188",
     "exception": false,
     "start_time": "2024-03-26T15:07:36.431079",
     "status": "completed"
    },
    "tags": []
   },
   "source": [
    "#### Looks like people prefers loud music but they don't like music without words."
   ]
  }
 ],
 "metadata": {
  "kaggle": {
   "accelerator": "none",
   "dataSources": [
    {
     "datasetId": 4667559,
     "sourceId": 7939289,
     "sourceType": "datasetVersion"
    }
   ],
   "dockerImageVersionId": 30673,
   "isGpuEnabled": false,
   "isInternetEnabled": true,
   "language": "python",
   "sourceType": "notebook"
  },
  "kernelspec": {
   "display_name": "Python 3",
   "language": "python",
   "name": "python3"
  },
  "language_info": {
   "codemirror_mode": {
    "name": "ipython",
    "version": 3
   },
   "file_extension": ".py",
   "mimetype": "text/x-python",
   "name": "python",
   "nbconvert_exporter": "python",
   "pygments_lexer": "ipython3",
   "version": "3.10.13"
  },
  "papermill": {
   "default_parameters": {},
   "duration": 7.415825,
   "end_time": "2024-03-26T15:07:37.379990",
   "environment_variables": {},
   "exception": null,
   "input_path": "__notebook__.ipynb",
   "output_path": "__notebook__.ipynb",
   "parameters": {},
   "start_time": "2024-03-26T15:07:29.964165",
   "version": "2.5.0"
  }
 },
 "nbformat": 4,
 "nbformat_minor": 5
}
