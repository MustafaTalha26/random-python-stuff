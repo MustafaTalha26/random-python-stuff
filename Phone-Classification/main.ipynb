{
 "cells": [
  {
   "cell_type": "code",
   "execution_count": null,
   "id": "751f9c98-ba3a-41e1-8f00-d6a986b43a9c",
   "metadata": {},
   "outputs": [],
   "source": [
    "# Kütüphaneler\n",
    "import numpy as np\n",
    "import pandas as pd\n",
    "import matplotlib.pyplot as plt\n",
    "import seaborn as sns\n",
    "import keras\n",
    "\n",
    "from sklearn.model_selection import train_test_split\n",
    "from sklearn.preprocessing import MinMaxScaler\n",
    "from sklearn.metrics import classification_report, confusion_matrix\n",
    "from sklearn.feature_selection import SelectKBest\n",
    "from sklearn.feature_selection import f_classif\n",
    "from sklearn.feature_selection import mutual_info_regression"
   ]
  },
  {
   "cell_type": "code",
   "execution_count": null,
   "id": "8d7e89cf-3038-43eb-9323-d056662db9c3",
   "metadata": {},
   "outputs": [],
   "source": [
    "# Model\n",
    "def define_model():\n",
    "    model = keras.models.Sequential()\n",
    "    model.add(keras.layers.Dense(256, activation='relu'))\n",
    "    model.add(keras.layers.Dropout(0.4))\n",
    "    model.add(keras.layers.Dense(128, activation='relu'))\n",
    "    model.add(keras.layers.Dropout(0.4))\n",
    "    model.add(keras.layers.Dense(4, activation='softmax'))\n",
    "    return model"
   ]
  },
  {
   "cell_type": "code",
   "execution_count": null,
   "id": "4e99ec04-a998-418b-9cd8-bd4bf317ea55",
   "metadata": {},
   "outputs": [],
   "source": [
    "# Özellik seçimi\n",
    "def select_features(X,y,k):\n",
    "    selector = SelectKBest(f_classif, k=k)\n",
    "    X_new = selector.fit_transform(X, y)\n",
    "    cols_idxs = selector.get_support(indices=True)\n",
    "    df_new = df.iloc[:,cols_idxs]\n",
    "    return X_new,df_new"
   ]
  },
  {
   "cell_type": "code",
   "execution_count": null,
   "id": "08420a75-3703-4789-bf92-97602da46e59",
   "metadata": {},
   "outputs": [],
   "source": [
    "# Dataframe oluşturulması\n",
    "df = pd.read_csv('train.csv')"
   ]
  },
  {
   "cell_type": "code",
   "execution_count": null,
   "id": "84192dbd-0aa3-46be-9813-046517d125d5",
   "metadata": {},
   "outputs": [],
   "source": [
    "# Bağımlı ve bağımsı değişken ayrımı\n",
    "X = df.drop('price_range', axis=1)\n",
    "y = df['price_range']"
   ]
  },
  {
   "cell_type": "code",
   "execution_count": null,
   "id": "1766107a-74d5-4f80-8d33-c83c7109f772",
   "metadata": {},
   "outputs": [],
   "source": [
    "# MinMax ölçekleyici\n",
    "sc_x = MinMaxScaler()\n",
    "X = sc_x.fit_transform(X)"
   ]
  },
  {
   "cell_type": "code",
   "execution_count": null,
   "id": "11b7dfe3-5142-4d5c-967d-40faa2615ee1",
   "metadata": {},
   "outputs": [],
   "source": [
    "# Özellik seçimi\n",
    "X,df_new = select_features(X,y,5)"
   ]
  },
  {
   "cell_type": "code",
   "execution_count": null,
   "id": "16ab5210-9567-47a7-b59c-99878ad795a8",
   "metadata": {},
   "outputs": [],
   "source": [
    "# Veri seti eğitim ve test ayrımı\n",
    "X_train, X_test, y_train, y_test = train_test_split(X, y, test_size=0.2, random_state=42)"
   ]
  },
  {
   "cell_type": "code",
   "execution_count": null,
   "id": "c0fad46d-7613-4eaa-9050-6ae0f4cfe8dd",
   "metadata": {},
   "outputs": [],
   "source": [
    "# Model oluşturulması, derlenmesi ve eğitilmesi\n",
    "model = define_model()\n",
    "model.compile(\n",
    "    optimizer=keras.optimizers.Adam(),\n",
    "    loss=keras.losses.SparseCategoricalCrossentropy(),\n",
    "    metrics=['accuracy'],\n",
    ")\n",
    "history = model.fit(\n",
    "    X_train,\n",
    "    y_train,\n",
    "    epochs=60,\n",
    "    batch_size=32, \n",
    "    validation_split=0.2, \n",
    "    verbose=2\n",
    ")"
   ]
  },
  {
   "cell_type": "code",
   "execution_count": null,
   "id": "907a93fa-179c-4c44-aded-991c51dabc33",
   "metadata": {},
   "outputs": [],
   "source": [
    "# Test seti doğruluk hesaplaması\n",
    "test_loss, test_acc = model.evaluate(X_test, y_test, verbose=0)\n",
    "print(f'Test Doğruluğu: {test_acc:.4f}')"
   ]
  },
  {
   "cell_type": "code",
   "execution_count": null,
   "id": "0969c0d2-ae9e-4b4e-9d41-dded302ce2f6",
   "metadata": {},
   "outputs": [],
   "source": [
    "# Sonuç gösterimi\n",
    "history_df = pd.DataFrame(history.history)\n",
    "history_df['epoch'] = range(1, len(history_df) + 1) \n",
    "melted_history = history_df.melt(id_vars='epoch', var_name='Metric', value_name='Value')\n",
    "plt.figure(figsize=(12, 6), dpi=300)\n",
    "sns.lineplot(x='epoch', y='Value', hue='Metric', data=melted_history)\n",
    "plt.xlabel('Epochs')\n",
    "plt.ylabel('Value')\n",
    "plt.title('Training & Validation Metrics')\n",
    "plt.legend(title='Metrics')\n",
    "plt.tight_layout()\n",
    "plt.show()"
   ]
  },
  {
   "cell_type": "code",
   "execution_count": null,
   "id": "e7c9593b-3fff-4f9b-a378-70c275b240dd",
   "metadata": {},
   "outputs": [],
   "source": [
    "# Test seti sonuçları\n",
    "y_pred_probs = model.predict(X_test)\n",
    "y_pred = np.argmax(y_pred_probs, axis=1)"
   ]
  },
  {
   "cell_type": "code",
   "execution_count": null,
   "id": "a934a742-209b-4f88-aa8a-01c2af3184f5",
   "metadata": {},
   "outputs": [],
   "source": [
    "# Karışıklık matrisi ve sınıflandırma raporu gösterimi\n",
    "print(confusion_matrix(y_pred, y_test))\n",
    "print(classification_report(y_pred, y_test))"
   ]
  }
 ],
 "metadata": {
  "kernelspec": {
   "display_name": "Python 3 (ipykernel)",
   "language": "python",
   "name": "python3"
  },
  "language_info": {
   "codemirror_mode": {
    "name": "ipython",
    "version": 3
   },
   "file_extension": ".py",
   "mimetype": "text/x-python",
   "name": "python",
   "nbconvert_exporter": "python",
   "pygments_lexer": "ipython3",
   "version": "3.10.10"
  }
 },
 "nbformat": 4,
 "nbformat_minor": 5
}
